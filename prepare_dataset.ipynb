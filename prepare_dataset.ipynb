{
 "cells": [
  {
   "cell_type": "code",
   "execution_count": 20,
   "id": "c530f357",
   "metadata": {},
   "outputs": [
    {
     "name": "stdout",
     "output_type": "stream",
     "text": [
      "--2022-02-28 16:40:46--  https://tickettagger.blob.core.windows.net/datasets/dataset-labels-top3-30k-real.txt\n",
      "Resolving tickettagger.blob.core.windows.net (tickettagger.blob.core.windows.net)... 52.239.251.68\n",
      "Connecting to tickettagger.blob.core.windows.net (tickettagger.blob.core.windows.net)|52.239.251.68|:443... connected.\n",
      "HTTP request sent, awaiting response... 200 OK\n",
      "Length: 22598414 (22M) [text/plain]\n",
      "Saving to: ‘dataset-labels-top3-30k-real.txt’\n",
      "\n",
      "dataset-labels-top3 100%[===================>]  21.55M  8.77MB/s    in 2.5s    \n",
      "\n",
      "2022-02-28 16:40:49 (8.77 MB/s) - ‘dataset-labels-top3-30k-real.txt’ saved [22598414/22598414]\n",
      "\n"
     ]
    }
   ],
   "source": [
    "!wget https://tickettagger.blob.core.windows.net/datasets/dataset-labels-top3-30k-real.txt"
   ]
  },
  {
   "cell_type": "code",
   "execution_count": 21,
   "id": "cd7e7c54",
   "metadata": {},
   "outputs": [
    {
     "name": "stdout",
     "output_type": "stream",
     "text": [
      "dataset\t\t\t\t  finetuning_model.ipynb  prepare_dataset.ipynb\r\n",
      "dataset-labels-top3-30k-real.txt  issues_test.tsv.1\t  readme.md\r\n"
     ]
    }
   ],
   "source": [
    "!ls"
   ]
  },
  {
   "cell_type": "code",
   "execution_count": 3,
   "id": "ed2e6fcc",
   "metadata": {},
   "outputs": [],
   "source": [
    "import pandas as pd"
   ]
  },
  {
   "cell_type": "code",
   "execution_count": 25,
   "id": "a4a569c7",
   "metadata": {},
   "outputs": [],
   "source": [
    "df = pd.read_csv('dataset-labels-top3-30k-real.txt', header=None)"
   ]
  },
  {
   "cell_type": "code",
   "execution_count": 26,
   "id": "5468933c",
   "metadata": {},
   "outputs": [
    {
     "data": {
      "text/html": [
       "<div>\n",
       "<style scoped>\n",
       "    .dataframe tbody tr th:only-of-type {\n",
       "        vertical-align: middle;\n",
       "    }\n",
       "\n",
       "    .dataframe tbody tr th {\n",
       "        vertical-align: top;\n",
       "    }\n",
       "\n",
       "    .dataframe thead th {\n",
       "        text-align: right;\n",
       "    }\n",
       "</style>\n",
       "<table border=\"1\" class=\"dataframe\">\n",
       "  <thead>\n",
       "    <tr style=\"text-align: right;\">\n",
       "      <th></th>\n",
       "      <th>0</th>\n",
       "    </tr>\n",
       "  </thead>\n",
       "  <tbody>\n",
       "    <tr>\n",
       "      <th>0</th>\n",
       "      <td>__label__enhancement Exception handling # Desc...</td>\n",
       "    </tr>\n",
       "    <tr>\n",
       "      <th>1</th>\n",
       "      <td>__label__enhancement Subpasses in MSL and HLSL...</td>\n",
       "    </tr>\n",
       "    <tr>\n",
       "      <th>2</th>\n",
       "      <td>__label__enhancement Collect new discovered no...</td>\n",
       "    </tr>\n",
       "    <tr>\n",
       "      <th>3</th>\n",
       "      <td>__label__enhancement Lock property : several p...</td>\n",
       "    </tr>\n",
       "    <tr>\n",
       "      <th>4</th>\n",
       "      <td>__label__bug Return default location type labe...</td>\n",
       "    </tr>\n",
       "    <tr>\n",
       "      <th>...</th>\n",
       "      <td>...</td>\n",
       "    </tr>\n",
       "    <tr>\n",
       "      <th>29995</th>\n",
       "      <td>__label__enhancement [TW-241] new column forma...</td>\n",
       "    </tr>\n",
       "    <tr>\n",
       "      <th>29996</th>\n",
       "      <td>__label__bug Error When using the example.    ...</td>\n",
       "    </tr>\n",
       "    <tr>\n",
       "      <th>29997</th>\n",
       "      <td>__label__bug CorrelationId should be generated...</td>\n",
       "    </tr>\n",
       "    <tr>\n",
       "      <th>29998</th>\n",
       "      <td>__label__enhancement screenshot sidecar should...</td>\n",
       "    </tr>\n",
       "    <tr>\n",
       "      <th>29999</th>\n",
       "      <td>__label__enhancement Reading / Content: increa...</td>\n",
       "    </tr>\n",
       "  </tbody>\n",
       "</table>\n",
       "<p>30000 rows × 1 columns</p>\n",
       "</div>"
      ],
      "text/plain": [
       "                                                       0\n",
       "0      __label__enhancement Exception handling # Desc...\n",
       "1      __label__enhancement Subpasses in MSL and HLSL...\n",
       "2      __label__enhancement Collect new discovered no...\n",
       "3      __label__enhancement Lock property : several p...\n",
       "4      __label__bug Return default location type labe...\n",
       "...                                                  ...\n",
       "29995  __label__enhancement [TW-241] new column forma...\n",
       "29996  __label__bug Error When using the example.    ...\n",
       "29997  __label__bug CorrelationId should be generated...\n",
       "29998  __label__enhancement screenshot sidecar should...\n",
       "29999  __label__enhancement Reading / Content: increa...\n",
       "\n",
       "[30000 rows x 1 columns]"
      ]
     },
     "execution_count": 26,
     "metadata": {},
     "output_type": "execute_result"
    }
   ],
   "source": [
    "df"
   ]
  },
  {
   "cell_type": "code",
   "execution_count": null,
   "id": "277a4e92",
   "metadata": {},
   "outputs": [],
   "source": []
  },
  {
   "cell_type": "code",
   "execution_count": null,
   "id": "49c0d028",
   "metadata": {},
   "outputs": [],
   "source": []
  },
  {
   "cell_type": "code",
   "execution_count": null,
   "id": "92bbb656",
   "metadata": {},
   "outputs": [],
   "source": []
  },
  {
   "cell_type": "code",
   "execution_count": null,
   "id": "97df5a66",
   "metadata": {},
   "outputs": [],
   "source": []
  }
 ],
 "metadata": {
  "kernelspec": {
   "display_name": "Python 3 (ipykernel)",
   "language": "python",
   "name": "python3"
  },
  "language_info": {
   "codemirror_mode": {
    "name": "ipython",
    "version": 3
   },
   "file_extension": ".py",
   "mimetype": "text/x-python",
   "name": "python",
   "nbconvert_exporter": "python",
   "pygments_lexer": "ipython3",
   "version": "3.8.10"
  }
 },
 "nbformat": 4,
 "nbformat_minor": 5
}
