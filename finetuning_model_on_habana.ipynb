{
 "cells": [
  {
   "cell_type": "markdown",
   "id": "b9824ef1",
   "metadata": {},
   "source": [
    "# Import Libs"
   ]
  },
  {
   "cell_type": "code",
   "execution_count": 1,
   "id": "61fdae07",
   "metadata": {},
   "outputs": [],
   "source": [
    "from datasets import Dataset, load_metric, ClassLabel\n",
    "from transformers import AutoTokenizer, AutoModelForSequenceClassification\n",
    "from transformers import get_scheduler, DataCollatorWithPadding\n",
    "from tqdm.auto import tqdm\n",
    "\n",
    "from torch.utils.data import DataLoader\n",
    "from torch.optim import AdamW\n",
    "import torch\n",
    "import numpy as np\n",
    "import pandas as pd\n",
    "import os\n",
    "import sys"
   ]
  },
  {
   "cell_type": "code",
   "execution_count": 2,
   "id": "807ddbbd",
   "metadata": {},
   "outputs": [
    {
     "name": "stdout",
     "output_type": "stream",
     "text": [
      "Enabling notebook extension jupyter-js-widgets/extension...\r\n",
      "      - Validating: \u001b[32mOK\u001b[0m\r\n"
     ]
    }
   ],
   "source": [
    "# Uncomment this line to enable nbextension and restart the kernel before proceeding to next step\n",
    "!jupyter nbextension enable --py widgetsnbextension"
   ]
  },
  {
   "cell_type": "markdown",
   "id": "1a45b494",
   "metadata": {},
   "source": [
    "# Configuration"
   ]
  },
  {
   "cell_type": "code",
   "execution_count": 3,
   "id": "f8c18666",
   "metadata": {},
   "outputs": [],
   "source": [
    "class Config:\n",
    "    # flag to target on Gaudi\n",
    "    TRAIN_ON_HPU = True\n",
    "    \n",
    "    # dataset\n",
    "    TRAIN_DS_PATH = './dataset/train.csv'\n",
    "    EVAL_DS_PATH = './dataset/eval.csv'\n",
    "    \n",
    "    # checkpoint used in preprocessing and modelling\n",
    "    CHECKPOINT = 'distilbert-base-uncased'\n",
    "    \n",
    "    # HF params\n",
    "    MAX_SEQ_LENGTH = 256\n",
    "    \n",
    "    # training hyperparams\n",
    "    EPOCHS = 5\n",
    "    LR = 3e-5\n",
    "    BATCH_SIZE = 16\n",
    "    \n",
    "    # saved model path\n",
    "    MODEL_DIR = './model/'"
   ]
  },
  {
   "cell_type": "code",
   "execution_count": 4,
   "id": "063ebc95",
   "metadata": {},
   "outputs": [],
   "source": [
    "cfg = Config()"
   ]
  },
  {
   "cell_type": "markdown",
   "id": "03113f86",
   "metadata": {},
   "source": [
    "# Load the data"
   ]
  },
  {
   "cell_type": "code",
   "execution_count": 5,
   "id": "97f4efc9",
   "metadata": {},
   "outputs": [],
   "source": [
    "train_ds = Dataset.from_pandas(pd.read_pickle(cfg.TRAIN_DS_PATH))\n",
    "eval_ds = Dataset.from_pandas(pd.read_pickle(cfg.EVAL_DS_PATH))"
   ]
  },
  {
   "cell_type": "code",
   "execution_count": 6,
   "id": "a1785d11",
   "metadata": {},
   "outputs": [
    {
     "data": {
      "text/plain": [
       "Dataset({\n",
       "    features: ['descriptions', 'labels'],\n",
       "    num_rows: 20604\n",
       "})"
      ]
     },
     "execution_count": 6,
     "metadata": {},
     "output_type": "execute_result"
    }
   ],
   "source": [
    "train_ds"
   ]
  },
  {
   "cell_type": "code",
   "execution_count": 7,
   "id": "3c557481",
   "metadata": {},
   "outputs": [
    {
     "data": {
      "text/plain": [
       "Dataset({\n",
       "    features: ['descriptions', 'labels'],\n",
       "    num_rows: 8831\n",
       "})"
      ]
     },
     "execution_count": 7,
     "metadata": {},
     "output_type": "execute_result"
    }
   ],
   "source": [
    "eval_ds"
   ]
  },
  {
   "cell_type": "markdown",
   "id": "1529e60d",
   "metadata": {},
   "source": [
    "# Preprocessing"
   ]
  },
  {
   "cell_type": "code",
   "execution_count": 8,
   "id": "19b32c42",
   "metadata": {
    "scrolled": true
   },
   "outputs": [],
   "source": [
    "# download checkpoint tokenizer\n",
    "tokenizer = AutoTokenizer.from_pretrained(cfg.CHECKPOINT)"
   ]
  },
  {
   "cell_type": "code",
   "execution_count": 9,
   "id": "1febf0b3",
   "metadata": {},
   "outputs": [],
   "source": [
    "# create data collator\n",
    "data_collator = DataCollatorWithPadding(tokenizer=tokenizer)"
   ]
  },
  {
   "cell_type": "code",
   "execution_count": 10,
   "id": "638a4ccb",
   "metadata": {},
   "outputs": [],
   "source": [
    "# tokenizer helper function\n",
    "def tokenize(batch):\n",
    "    return tokenizer(batch['descriptions'], truncation=True, max_length=cfg.MAX_SEQ_LENGTH)"
   ]
  },
  {
   "cell_type": "code",
   "execution_count": 11,
   "id": "483b4eaf",
   "metadata": {},
   "outputs": [
    {
     "data": {
      "application/vnd.jupyter.widget-view+json": {
       "model_id": "53a7642f547d4b318afabaf597d6aef4",
       "version_major": 2,
       "version_minor": 0
      },
      "text/plain": [
       "  0%|          | 0/21 [00:00<?, ?ba/s]"
      ]
     },
     "metadata": {},
     "output_type": "display_data"
    },
    {
     "data": {
      "application/vnd.jupyter.widget-view+json": {
       "model_id": "c7138bd608304efc9c104ea24a52e4d0",
       "version_major": 2,
       "version_minor": 0
      },
      "text/plain": [
       "  0%|          | 0/9 [00:00<?, ?ba/s]"
      ]
     },
     "metadata": {},
     "output_type": "display_data"
    }
   ],
   "source": [
    "# tokenize dataset\n",
    "train_ds = train_ds.map(tokenize, batched=True)\n",
    "eval_ds = eval_ds.map(tokenize, batched=True)"
   ]
  },
  {
   "cell_type": "code",
   "execution_count": 12,
   "id": "2ccc0db1",
   "metadata": {},
   "outputs": [
    {
     "data": {
      "application/vnd.jupyter.widget-view+json": {
       "model_id": "cfa66706a51b4deb936647c38076ed9e",
       "version_major": 2,
       "version_minor": 0
      },
      "text/plain": [
       "0ex [00:00, ?ex/s]"
      ]
     },
     "metadata": {},
     "output_type": "display_data"
    },
    {
     "data": {
      "application/vnd.jupyter.widget-view+json": {
       "model_id": "c2161ef6abae4745b728b92d46fa8a69",
       "version_major": 2,
       "version_minor": 0
      },
      "text/plain": [
       "0ex [00:00, ?ex/s]"
      ]
     },
     "metadata": {},
     "output_type": "display_data"
    }
   ],
   "source": [
    "## convert dataset labels from str to ClassLabel\n",
    "lbels = train_ds.unique(\"labels\")\n",
    "label_feature = ClassLabel(names=lbels)\n",
    "\n",
    "# Update default features\n",
    "train_features = train_ds.features\n",
    "train_features[\"labels\"] = label_feature\n",
    "eval_features = eval_ds.features\n",
    "eval_features[\"labels\"] = label_feature\n",
    "\n",
    "# Update dataset\n",
    "train_ds = train_ds.map(lambda x : {\"labels\": label_feature.str2int(x[\"labels\"])}, features=train_features)\n",
    "eval_ds = eval_ds.map(lambda x : {\"labels\": label_feature.str2int(x[\"labels\"])}, features=eval_features)\n"
   ]
  },
  {
   "cell_type": "code",
   "execution_count": 13,
   "id": "29ea23e1",
   "metadata": {
    "scrolled": true
   },
   "outputs": [
    {
     "data": {
      "text/plain": [
       "{'descriptions': Value(dtype='string', id=None),\n",
       " 'labels': ClassLabel(num_classes=3, names=['bug', 'enhancement', 'question'], names_file=None, id=None),\n",
       " 'input_ids': Sequence(feature=Value(dtype='int32', id=None), length=-1, id=None),\n",
       " 'attention_mask': Sequence(feature=Value(dtype='int8', id=None), length=-1, id=None)}"
      ]
     },
     "execution_count": 13,
     "metadata": {},
     "output_type": "execute_result"
    }
   ],
   "source": [
    "train_ds.features"
   ]
  },
  {
   "cell_type": "code",
   "execution_count": 14,
   "id": "8324a213",
   "metadata": {},
   "outputs": [],
   "source": [
    "# remove redundant column and set torch format to the datasets\n",
    "train_ds = train_ds.remove_columns(['descriptions'])\n",
    "eval_ds = eval_ds.remove_columns(['descriptions'])\n",
    "train_ds.set_format(\"torch\")\n",
    "eval_ds.set_format(\"torch\")"
   ]
  },
  {
   "cell_type": "code",
   "execution_count": 15,
   "id": "df8c9c65",
   "metadata": {},
   "outputs": [],
   "source": [
    "train_dataloader = DataLoader(train_ds, shuffle=True, batch_size=cfg.BATCH_SIZE, collate_fn=data_collator)\n",
    "eval_dataloader = DataLoader(eval_ds, batch_size=cfg.BATCH_SIZE, collate_fn=data_collator)"
   ]
  },
  {
   "cell_type": "code",
   "execution_count": 16,
   "id": "142f68fe",
   "metadata": {},
   "outputs": [],
   "source": [
    "# sanity check\n",
    "# for batch in train_dataloader:\n",
    "#     break\n",
    "# {k: v.shape for k, v in batch.items()}"
   ]
  },
  {
   "cell_type": "markdown",
   "id": "cbd8edc5",
   "metadata": {},
   "source": [
    "# Training and Evaluating Model"
   ]
  },
  {
   "cell_type": "code",
   "execution_count": 17,
   "id": "72f2590e",
   "metadata": {},
   "outputs": [],
   "source": [
    "# define metrics\n",
    "metric = load_metric(\"accuracy\")\n",
    "# def compute_metrics(eval_pred):\n",
    "#     metric = load_metric(\"accuracy\")\n",
    "#     predictions, labels = eval_pred\n",
    "#     predictions = np.argmax(predictions, axis=1)\n",
    "#     return metric.compute(predictions=predictions, references=labels)\n",
    "\n",
    "# Prepare model labels - useful in inference API\n",
    "labels = train_ds.features[\"labels\"].names\n",
    "num_labels = len(labels)\n",
    "label2id, id2label = dict(), dict()\n",
    "for i, label in enumerate(labels):\n",
    "    label2id[label] = str(i)\n",
    "    id2label[str(i)] = label"
   ]
  },
  {
   "cell_type": "code",
   "execution_count": 18,
   "id": "f5c52985",
   "metadata": {},
   "outputs": [
    {
     "data": {
      "application/vnd.jupyter.widget-view+json": {
       "model_id": "7d949a95859a4441ae06ace52097f69a",
       "version_major": 2,
       "version_minor": 0
      },
      "text/plain": [
       "Downloading:   0%|          | 0.00/256M [00:00<?, ?B/s]"
      ]
     },
     "metadata": {},
     "output_type": "display_data"
    },
    {
     "name": "stderr",
     "output_type": "stream",
     "text": [
      "Some weights of the model checkpoint at distilbert-base-uncased were not used when initializing DistilBertForSequenceClassification: ['vocab_layer_norm.weight', 'vocab_projector.bias', 'vocab_projector.weight', 'vocab_transform.weight', 'vocab_layer_norm.bias', 'vocab_transform.bias']\n",
      "- This IS expected if you are initializing DistilBertForSequenceClassification from the checkpoint of a model trained on another task or with another architecture (e.g. initializing a BertForSequenceClassification model from a BertForPreTraining model).\n",
      "- This IS NOT expected if you are initializing DistilBertForSequenceClassification from the checkpoint of a model that you expect to be exactly identical (initializing a BertForSequenceClassification model from a BertForSequenceClassification model).\n",
      "Some weights of DistilBertForSequenceClassification were not initialized from the model checkpoint at distilbert-base-uncased and are newly initialized: ['pre_classifier.weight', 'classifier.weight', 'pre_classifier.bias', 'classifier.bias']\n",
      "You should probably TRAIN this model on a down-stream task to be able to use it for predictions and inference.\n"
     ]
    }
   ],
   "source": [
    "# download model from model hub\n",
    "model = AutoModelForSequenceClassification.from_pretrained(\n",
    "    cfg.CHECKPOINT, \n",
    "    num_labels=num_labels, \n",
    "    label2id=label2id, \n",
    "    id2label=id2label,\n",
    ")"
   ]
  },
  {
   "cell_type": "code",
   "execution_count": 19,
   "id": "3cbae78c",
   "metadata": {},
   "outputs": [
    {
     "name": "stdout",
     "output_type": "stream",
     "text": [
      "Training steps: 6440\n"
     ]
    }
   ],
   "source": [
    "# optimizer\n",
    "optimizer = AdamW(model.parameters(), lr=cfg.LR)\n",
    "\n",
    "# lr scheduler\n",
    "num_training_steps = cfg.EPOCHS * len(train_dataloader) # epoch * train_steps_per_epoch\n",
    "lr_scheduler = get_scheduler(\n",
    "    \"linear\",\n",
    "    optimizer=optimizer,\n",
    "    num_warmup_steps=0,\n",
    "    num_training_steps=num_training_steps,\n",
    ")\n",
    "\n",
    "print(f\"Training steps: {num_training_steps}\")"
   ]
  },
  {
   "cell_type": "code",
   "execution_count": 21,
   "id": "87ea5ef1",
   "metadata": {},
   "outputs": [
    {
     "name": "stdout",
     "output_type": "stream",
     "text": [
      "Loading Habana modules from /usr/local/lib/python3.8/dist-packages/habana_frameworks/torch/lib\n"
     ]
    },
    {
     "name": "stderr",
     "output_type": "stream",
     "text": [
      "synapse_logger INFO. pid=1060 at /home/jenkins/workspace/cdsoftwarebuilder/create-pytorch---bpt-d/repos/pytorch-integration/pytorch_helpers/synapse_logger/synapse_logger.cpp:311 Done command: restart\n"
     ]
    },
    {
     "name": "stdout",
     "output_type": "stream",
     "text": [
      "Targeting HPU\n"
     ]
    }
   ],
   "source": [
    "# Prepare target device for training\n",
    "if cfg.TRAIN_ON_HPU:\n",
    "#     habana_modules_directory = \"/usr/lib/habanalabs\"\n",
    "#     habana_pth_plugin = \"libhabana_pytorch_plugin.so\"\n",
    "#     sys.path.insert(0, habana_modules_directory)\n",
    "#     torch.ops.load_library(\n",
    "#         os.path.abspath(\n",
    "#             os.path.join(habana_modules_directory, habana_pth_plugin)\n",
    "#         )\n",
    "#     )\n",
    "    from habana_frameworks.torch.utils.library_loader import load_habana_module\n",
    "    load_habana_module()\n",
    "    print(\"Targeting HPU\")\n",
    "    device = torch.device(\"hpu\")\n",
    "else:\n",
    "    device = torch.device('cuda' if torch.cuda.is_available() else 'cpu')\n",
    "    print(f\"Using device: {device}\")\n",
    "    \n",
    "model = model.to(device)"
   ]
  },
  {
   "cell_type": "code",
   "execution_count": 22,
   "id": "f0cc7dc4",
   "metadata": {},
   "outputs": [],
   "source": [
    "# train & eval helpers\n",
    "def train_epoch(train_dataloader, model, optimizer, lr_scheduler, global_progress_bar=None):\n",
    "    model.train()\n",
    "    size = len(train_dataloader)\n",
    "    for batch_idx, batch in enumerate(train_dataloader):\n",
    "        batch = {k: v.to(device) for k, v in batch.items()}\n",
    "        # forward propagation\n",
    "        outputs = model(**batch)\n",
    "        loss = outputs.loss\n",
    "        \n",
    "        # backpropagation\n",
    "        optimizer.zero_grad()\n",
    "        loss.backward()\n",
    "        \n",
    "        # step grad and lr\n",
    "        optimizer.step()\n",
    "        lr_scheduler.step()\n",
    "        \n",
    "        # print out training progress every 500 steps\n",
    "        if batch_idx % 100 == 0:\n",
    "            print(f\"loss: {loss.item():>7f}  [{batch_idx:>5d}/{size:>5d}]\")\n",
    "        \n",
    "        # update gobal bar progress\n",
    "        if global_progress_bar:\n",
    "            global_progress_bar.update(1)\n",
    "\n",
    "def eval_epoch(eval_dataloader, model):\n",
    "    model.eval()\n",
    "    for batch in eval_dataloader:\n",
    "        batch = {k: v.to(device) for k, v in batch.items()}\n",
    "        with torch.no_grad():\n",
    "            outputs = model(**batch)\n",
    "            \n",
    "        # post-process pred\n",
    "        logits = outputs.logits\n",
    "        predictions = torch.argmax(logits, dim=-1)\n",
    "        \n",
    "        # accumulate all batches' metrics\n",
    "        metric.add_batch(predictions=predictions, references=batch[\"labels\"])\n",
    "        \n",
    "    print(metric.compute())"
   ]
  },
  {
   "cell_type": "code",
   "execution_count": 23,
   "id": "4283601c",
   "metadata": {},
   "outputs": [
    {
     "data": {
      "application/vnd.jupyter.widget-view+json": {
       "model_id": "3703cf8a7fd14e62813a9761ab9d75be",
       "version_major": 2,
       "version_minor": 0
      },
      "text/plain": [
       "  0%|          | 0/6440 [00:00<?, ?it/s]"
      ]
     },
     "metadata": {},
     "output_type": "display_data"
    },
    {
     "name": "stdout",
     "output_type": "stream",
     "text": [
      "Epoch 1\n",
      "-------------------------------\n",
      "loss: 1.081280  [    0/ 1288]\n",
      "loss: 1.093578  [  100/ 1288]\n",
      "loss: 1.078536  [  200/ 1288]\n",
      "loss: 1.056231  [  300/ 1288]\n",
      "loss: 1.070909  [  400/ 1288]\n",
      "loss: 1.078396  [  500/ 1288]\n",
      "loss: 1.110729  [  600/ 1288]\n",
      "loss: 1.105991  [  700/ 1288]\n",
      "loss: 1.050369  [  800/ 1288]\n",
      "loss: 1.094204  [  900/ 1288]\n",
      "loss: 1.088480  [ 1000/ 1288]\n",
      "loss: 1.080473  [ 1100/ 1288]\n",
      "loss: 1.101774  [ 1200/ 1288]\n",
      "Evaluation:\n",
      "{'accuracy': 0.5090023779866379}\n",
      "Epoch 2\n",
      "-------------------------------\n",
      "loss: 1.124211  [    0/ 1288]\n",
      "loss: 1.091846  [  100/ 1288]\n",
      "loss: 1.096279  [  200/ 1288]\n",
      "loss: 1.115094  [  300/ 1288]\n",
      "loss: 1.088897  [  400/ 1288]\n",
      "loss: 1.101940  [  500/ 1288]\n",
      "loss: 1.081361  [  600/ 1288]\n",
      "loss: 1.049627  [  700/ 1288]\n",
      "loss: 1.103675  [  800/ 1288]\n",
      "loss: 1.071610  [  900/ 1288]\n",
      "loss: 1.082605  [ 1000/ 1288]\n",
      "loss: 1.114474  [ 1100/ 1288]\n",
      "loss: 1.082290  [ 1200/ 1288]\n",
      "Evaluation:\n",
      "{'accuracy': 0.5090023779866379}\n",
      "Epoch 3\n",
      "-------------------------------\n",
      "loss: 1.099971  [    0/ 1288]\n",
      "loss: 1.097303  [  100/ 1288]\n",
      "loss: 1.100999  [  200/ 1288]\n",
      "loss: 1.088976  [  300/ 1288]\n",
      "loss: 1.069680  [  400/ 1288]\n",
      "loss: 1.077360  [  500/ 1288]\n",
      "loss: 1.108152  [  600/ 1288]\n",
      "loss: 1.145583  [  700/ 1288]\n",
      "loss: 1.057368  [  800/ 1288]\n",
      "loss: 1.084913  [  900/ 1288]\n",
      "loss: 1.072519  [ 1000/ 1288]\n",
      "loss: 1.105953  [ 1100/ 1288]\n",
      "loss: 1.104208  [ 1200/ 1288]\n",
      "Evaluation:\n",
      "{'accuracy': 0.5090023779866379}\n",
      "Epoch 4\n",
      "-------------------------------\n",
      "loss: 1.082264  [    0/ 1288]\n",
      "loss: 1.131569  [  100/ 1288]\n",
      "loss: 1.113688  [  200/ 1288]\n",
      "loss: 1.100323  [  300/ 1288]\n",
      "loss: 1.066203  [  400/ 1288]\n",
      "loss: 1.118835  [  500/ 1288]\n",
      "loss: 1.078066  [  600/ 1288]\n",
      "loss: 1.080351  [  700/ 1288]\n",
      "loss: 1.090653  [  800/ 1288]\n",
      "loss: 1.084524  [  900/ 1288]\n",
      "loss: 1.109528  [ 1000/ 1288]\n",
      "loss: 1.080210  [ 1100/ 1288]\n",
      "loss: 1.098090  [ 1200/ 1288]\n",
      "Evaluation:\n",
      "{'accuracy': 0.5090023779866379}\n",
      "Epoch 5\n",
      "-------------------------------\n",
      "loss: 1.086801  [    0/ 1288]\n",
      "loss: 1.111114  [  100/ 1288]\n",
      "loss: 1.058982  [  200/ 1288]\n",
      "loss: 1.049531  [  300/ 1288]\n",
      "loss: 1.091047  [  400/ 1288]\n",
      "loss: 1.091196  [  500/ 1288]\n",
      "loss: 1.107747  [  600/ 1288]\n",
      "loss: 1.057570  [  700/ 1288]\n",
      "loss: 1.096435  [  800/ 1288]\n",
      "loss: 1.096794  [  900/ 1288]\n",
      "loss: 1.067171  [ 1000/ 1288]\n",
      "loss: 1.075084  [ 1100/ 1288]\n",
      "loss: 1.116889  [ 1200/ 1288]\n",
      "Evaluation:\n",
      "{'accuracy': 0.5090023779866379}\n"
     ]
    }
   ],
   "source": [
    "# training and eval loops\n",
    "global_progress_bar = tqdm(range(num_training_steps))\n",
    "for epoch in range(cfg.EPOCHS):\n",
    "    print(f\"Epoch {epoch+1}\\n-------------------------------\")\n",
    "    train_epoch(train_dataloader, model, optimizer, lr_scheduler, global_progress_bar)\n",
    "    print(\"Evaluation:\")\n",
    "    eval_epoch(eval_dataloader, model)"
   ]
  },
  {
   "cell_type": "markdown",
   "id": "de06cc63",
   "metadata": {},
   "source": [
    "# Saving Model"
   ]
  },
  {
   "cell_type": "code",
   "execution_count": 24,
   "id": "4878761d",
   "metadata": {},
   "outputs": [
    {
     "name": "stdout",
     "output_type": "stream",
     "text": [
      "Trained model and its tokenizer are saved to ./model/\n"
     ]
    }
   ],
   "source": [
    "    try:\n",
    "        model.save_pretrained(cfg.MODEL_DIR)\n",
    "        tokenizer.save_pretrained(cfg.MODEL_DIR)\n",
    "        print(f\"Trained model and its tokenizer are saved to {cfg.MODEL_DIR}\")\n",
    "    except Exception as e:\n",
    "        print(e)\n",
    "        print(\"Saving model failed\")\n",
    "            "
   ]
  },
  {
   "cell_type": "code",
   "execution_count": 25,
   "id": "4c1f1756",
   "metadata": {},
   "outputs": [],
   "source": [
    "# More info to save HF model: https://huggingface.co/transformers/v1.0.0/model_doc/overview.html#serialization-best-practices"
   ]
  }
 ],
 "metadata": {
  "kernelspec": {
   "display_name": "Python 3 (ipykernel)",
   "language": "python",
   "name": "python3"
  },
  "language_info": {
   "codemirror_mode": {
    "name": "ipython",
    "version": 3
   },
   "file_extension": ".py",
   "mimetype": "text/x-python",
   "name": "python",
   "nbconvert_exporter": "python",
   "pygments_lexer": "ipython3",
   "version": "3.8.10"
  }
 },
 "nbformat": 4,
 "nbformat_minor": 5
}
