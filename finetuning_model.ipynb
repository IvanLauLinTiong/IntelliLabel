{
 "cells": [
  {
   "cell_type": "markdown",
   "id": "b9824ef1",
   "metadata": {},
   "source": [
    "# Import Libs"
   ]
  },
  {
   "cell_type": "code",
   "execution_count": 1,
   "id": "61fdae07",
   "metadata": {},
   "outputs": [],
   "source": [
    "from datasets import Dataset, load_metric, ClassLabel\n",
    "from transformers import AutoTokenizer, AutoModelForSequenceClassification\n",
    "from transformers import get_scheduler, DataCollatorWithPadding\n",
    "from tqdm.auto import tqdm\n",
    "\n",
    "from torch.utils.data import DataLoader\n",
    "from torch.optim import AdamW\n",
    "import torch\n",
    "import numpy as np\n",
    "import pandas as pd\n",
    "import os\n",
    "import sys"
   ]
  },
  {
   "cell_type": "code",
   "execution_count": 2,
   "id": "807ddbbd",
   "metadata": {},
   "outputs": [],
   "source": [
    "# Uncomment this line to enable nbextension and restart the kernel before proceeding to next step\n",
    "# !jupyter nbextension enable --py widgetsnbextension"
   ]
  },
  {
   "cell_type": "markdown",
   "id": "1a45b494",
   "metadata": {},
   "source": [
    "# Configuration"
   ]
  },
  {
   "cell_type": "code",
   "execution_count": 3,
   "id": "f8c18666",
   "metadata": {},
   "outputs": [],
   "source": [
    "class Config:\n",
    "    # flag to target on Gaudi\n",
    "    TRAIN_ON_HPU = False\n",
    "    \n",
    "    # dataset\n",
    "    TRAIN_DS_PATH = './dataset/train.csv'\n",
    "    EVAL_DS_PATH = './dataset/eval.csv'\n",
    "    \n",
    "    # checkpoint used in preprocessing and modelling\n",
    "    CHECKPOINT = 'distilbert-base-uncased'\n",
    "    \n",
    "    # HF params\n",
    "    MAX_SEQ_LENGTH = 256\n",
    "    \n",
    "    # training hyperparams\n",
    "    EPOCHS = 5\n",
    "    LR = 3e-5\n",
    "    BATCH_SIZE = 16\n",
    "    \n",
    "    # saved model path\n",
    "    MODEL_DIR = './model/distil-bert-uncased-finetuned-github-issues/'"
   ]
  },
  {
   "cell_type": "code",
   "execution_count": 4,
   "id": "063ebc95",
   "metadata": {},
   "outputs": [],
   "source": [
    "cfg = Config()"
   ]
  },
  {
   "cell_type": "markdown",
   "id": "03113f86",
   "metadata": {},
   "source": [
    "# Load the data"
   ]
  },
  {
   "cell_type": "code",
   "execution_count": 5,
   "id": "97f4efc9",
   "metadata": {},
   "outputs": [],
   "source": [
    "train_ds = Dataset.from_pandas(pd.read_pickle(cfg.TRAIN_DS_PATH))\n",
    "eval_ds = Dataset.from_pandas(pd.read_pickle(cfg.EVAL_DS_PATH))"
   ]
  },
  {
   "cell_type": "code",
   "execution_count": 6,
   "id": "a1785d11",
   "metadata": {},
   "outputs": [
    {
     "data": {
      "text/plain": [
       "Dataset({\n",
       "    features: ['descriptions', 'labels'],\n",
       "    num_rows: 20604\n",
       "})"
      ]
     },
     "execution_count": 6,
     "metadata": {},
     "output_type": "execute_result"
    }
   ],
   "source": [
    "train_ds"
   ]
  },
  {
   "cell_type": "code",
   "execution_count": 7,
   "id": "3c557481",
   "metadata": {},
   "outputs": [
    {
     "data": {
      "text/plain": [
       "Dataset({\n",
       "    features: ['descriptions', 'labels'],\n",
       "    num_rows: 8831\n",
       "})"
      ]
     },
     "execution_count": 7,
     "metadata": {},
     "output_type": "execute_result"
    }
   ],
   "source": [
    "eval_ds"
   ]
  },
  {
   "cell_type": "markdown",
   "id": "1529e60d",
   "metadata": {},
   "source": [
    "# Preprocessing"
   ]
  },
  {
   "cell_type": "code",
   "execution_count": 8,
   "id": "19b32c42",
   "metadata": {
    "scrolled": true
   },
   "outputs": [],
   "source": [
    "# download checkpoint tokenizer\n",
    "tokenizer = AutoTokenizer.from_pretrained(cfg.CHECKPOINT)"
   ]
  },
  {
   "cell_type": "code",
   "execution_count": 9,
   "id": "1febf0b3",
   "metadata": {},
   "outputs": [],
   "source": [
    "# create data collator\n",
    "data_collator = DataCollatorWithPadding(tokenizer=tokenizer)"
   ]
  },
  {
   "cell_type": "code",
   "execution_count": 10,
   "id": "638a4ccb",
   "metadata": {},
   "outputs": [],
   "source": [
    "# tokenizer helper function\n",
    "def tokenize(batch):\n",
    "    return tokenizer(batch['descriptions'], truncation=True, max_length=cfg.MAX_SEQ_LENGTH)"
   ]
  },
  {
   "cell_type": "code",
   "execution_count": 11,
   "id": "483b4eaf",
   "metadata": {},
   "outputs": [
    {
     "data": {
      "application/vnd.jupyter.widget-view+json": {
       "model_id": "21e80ebad63446398753bd50f1627ad2",
       "version_major": 2,
       "version_minor": 0
      },
      "text/plain": [
       "  0%|          | 0/21 [00:00<?, ?ba/s]"
      ]
     },
     "metadata": {},
     "output_type": "display_data"
    },
    {
     "data": {
      "application/vnd.jupyter.widget-view+json": {
       "model_id": "5e13e75d5bb44e78b233066b80eb3f6c",
       "version_major": 2,
       "version_minor": 0
      },
      "text/plain": [
       "  0%|          | 0/9 [00:00<?, ?ba/s]"
      ]
     },
     "metadata": {},
     "output_type": "display_data"
    }
   ],
   "source": [
    "# tokenize dataset\n",
    "train_ds = train_ds.map(tokenize, batched=True)\n",
    "eval_ds = eval_ds.map(tokenize, batched=True)"
   ]
  },
  {
   "cell_type": "code",
   "execution_count": 12,
   "id": "2ccc0db1",
   "metadata": {},
   "outputs": [
    {
     "data": {
      "application/vnd.jupyter.widget-view+json": {
       "model_id": "58a9d84d47a2408f96c45377146ea174",
       "version_major": 2,
       "version_minor": 0
      },
      "text/plain": [
       "0ex [00:00, ?ex/s]"
      ]
     },
     "metadata": {},
     "output_type": "display_data"
    },
    {
     "data": {
      "application/vnd.jupyter.widget-view+json": {
       "model_id": "4c8cd6b9d874497a9795e69bfa1e0a58",
       "version_major": 2,
       "version_minor": 0
      },
      "text/plain": [
       "0ex [00:00, ?ex/s]"
      ]
     },
     "metadata": {},
     "output_type": "display_data"
    }
   ],
   "source": [
    "## convert dataset labels from str to ClassLabel\n",
    "lbels = train_ds.unique(\"labels\")\n",
    "label_feature = ClassLabel(names=lbels)\n",
    "\n",
    "# Update default features\n",
    "train_features = train_ds.features\n",
    "train_features[\"labels\"] = label_feature\n",
    "eval_features = eval_ds.features\n",
    "eval_features[\"labels\"] = label_feature\n",
    "\n",
    "# Update dataset\n",
    "train_ds = train_ds.map(lambda x : {\"labels\": label_feature.str2int(x[\"labels\"])}, features=train_features)\n",
    "eval_ds = eval_ds.map(lambda x : {\"labels\": label_feature.str2int(x[\"labels\"])}, features=eval_features)\n"
   ]
  },
  {
   "cell_type": "code",
   "execution_count": 13,
   "id": "29ea23e1",
   "metadata": {
    "scrolled": true
   },
   "outputs": [
    {
     "data": {
      "text/plain": [
       "{'descriptions': Value(dtype='string', id=None),\n",
       " 'labels': ClassLabel(num_classes=3, names=['bug', 'enhancement', 'question'], names_file=None, id=None),\n",
       " 'input_ids': Sequence(feature=Value(dtype='int32', id=None), length=-1, id=None),\n",
       " 'attention_mask': Sequence(feature=Value(dtype='int8', id=None), length=-1, id=None)}"
      ]
     },
     "execution_count": 13,
     "metadata": {},
     "output_type": "execute_result"
    }
   ],
   "source": [
    "train_ds.features"
   ]
  },
  {
   "cell_type": "code",
   "execution_count": 14,
   "id": "8324a213",
   "metadata": {},
   "outputs": [],
   "source": [
    "# remove redundant column and set torch format to the datasets\n",
    "train_ds = train_ds.remove_columns(['descriptions'])\n",
    "eval_ds = eval_ds.remove_columns(['descriptions'])\n",
    "train_ds.set_format(\"torch\")\n",
    "eval_ds.set_format(\"torch\")"
   ]
  },
  {
   "cell_type": "code",
   "execution_count": 15,
   "id": "df8c9c65",
   "metadata": {},
   "outputs": [],
   "source": [
    "train_dataloader = DataLoader(train_ds, shuffle=True, batch_size=cfg.BATCH_SIZE, collate_fn=data_collator)\n",
    "eval_dataloader = DataLoader(eval_ds, batch_size=cfg.BATCH_SIZE, collate_fn=data_collator)"
   ]
  },
  {
   "cell_type": "code",
   "execution_count": 16,
   "id": "142f68fe",
   "metadata": {},
   "outputs": [],
   "source": [
    "# sanity check\n",
    "# for batch in train_dataloader:\n",
    "#     break\n",
    "# {k: v.shape for k, v in batch.items()}"
   ]
  },
  {
   "cell_type": "markdown",
   "id": "cbd8edc5",
   "metadata": {},
   "source": [
    "# Training and Evaluating Model"
   ]
  },
  {
   "cell_type": "code",
   "execution_count": 17,
   "id": "72f2590e",
   "metadata": {},
   "outputs": [],
   "source": [
    "# define metrics\n",
    "metric = load_metric(\"accuracy\")\n",
    "# def compute_metrics(eval_pred):\n",
    "#     metric = load_metric(\"accuracy\")\n",
    "#     predictions, labels = eval_pred\n",
    "#     predictions = np.argmax(predictions, axis=1)\n",
    "#     return metric.compute(predictions=predictions, references=labels)\n",
    "\n",
    "# Prepare model labels - useful in inference API\n",
    "labels = train_ds.features[\"labels\"].names\n",
    "num_labels = len(labels)\n",
    "label2id, id2label = dict(), dict()\n",
    "for i, label in enumerate(labels):\n",
    "    label2id[label] = str(i)\n",
    "    id2label[str(i)] = label"
   ]
  },
  {
   "cell_type": "code",
   "execution_count": 18,
   "id": "f5c52985",
   "metadata": {},
   "outputs": [
    {
     "name": "stderr",
     "output_type": "stream",
     "text": [
      "Some weights of the model checkpoint at distilbert-base-uncased were not used when initializing DistilBertForSequenceClassification: ['vocab_layer_norm.bias', 'vocab_projector.bias', 'vocab_transform.weight', 'vocab_transform.bias', 'vocab_layer_norm.weight', 'vocab_projector.weight']\n",
      "- This IS expected if you are initializing DistilBertForSequenceClassification from the checkpoint of a model trained on another task or with another architecture (e.g. initializing a BertForSequenceClassification model from a BertForPreTraining model).\n",
      "- This IS NOT expected if you are initializing DistilBertForSequenceClassification from the checkpoint of a model that you expect to be exactly identical (initializing a BertForSequenceClassification model from a BertForSequenceClassification model).\n",
      "Some weights of DistilBertForSequenceClassification were not initialized from the model checkpoint at distilbert-base-uncased and are newly initialized: ['classifier.weight', 'pre_classifier.bias', 'classifier.bias', 'pre_classifier.weight']\n",
      "You should probably TRAIN this model on a down-stream task to be able to use it for predictions and inference.\n"
     ]
    }
   ],
   "source": [
    "# download model from model hub\n",
    "model = AutoModelForSequenceClassification.from_pretrained(\n",
    "    cfg.CHECKPOINT, \n",
    "    num_labels=num_labels, \n",
    "    label2id=label2id, \n",
    "    id2label=id2label,\n",
    ")"
   ]
  },
  {
   "cell_type": "code",
   "execution_count": 19,
   "id": "3cbae78c",
   "metadata": {},
   "outputs": [
    {
     "name": "stdout",
     "output_type": "stream",
     "text": [
      "Training steps: 6440\n"
     ]
    }
   ],
   "source": [
    "# optimizer\n",
    "optimizer = AdamW(model.parameters(), lr=cfg.LR)\n",
    "\n",
    "# lr scheduler\n",
    "num_training_steps = cfg.EPOCHS * len(train_dataloader) # epoch * train_steps_per_epoch\n",
    "lr_scheduler = get_scheduler(\n",
    "    \"linear\",\n",
    "    optimizer=optimizer,\n",
    "    num_warmup_steps=0,\n",
    "    num_training_steps=num_training_steps,\n",
    ")\n",
    "\n",
    "print(f\"Training steps: {num_training_steps}\")"
   ]
  },
  {
   "cell_type": "code",
   "execution_count": 20,
   "id": "87ea5ef1",
   "metadata": {},
   "outputs": [
    {
     "name": "stdout",
     "output_type": "stream",
     "text": [
      "Using device: cuda\n"
     ]
    }
   ],
   "source": [
    "# Prepare target device for training\n",
    "if cfg.TRAIN_ON_HPU:\n",
    "    # habana_modules_directory = \"/usr/lib/habanalabs\"\n",
    "    # habana_pth_plugin = \"libhabana_pytorch_plugin.so\"\n",
    "    # sys.path.insert(0, habana_modules_directory)\n",
    "    # torch.ops.load_library(\n",
    "    #     os.path.abspath(\n",
    "    #         os.path.join(habana_modules_directory, habana_pth_plugin)\n",
    "    #     )\n",
    "    # )\n",
    "    from habana_frameworks.torch.utils.library_loader import load_habana_module\n",
    "    load_habana_module()\n",
    "    print(\"Targeting HPU\")\n",
    "    device = torch.device(\"hpu\")\n",
    "else:\n",
    "    device = torch.device('cuda' if torch.cuda.is_available() else 'cpu')\n",
    "    print(f\"Using device: {device}\")\n",
    "    \n",
    "model = model.to(device)"
   ]
  },
  {
   "cell_type": "code",
   "execution_count": 21,
   "id": "f0cc7dc4",
   "metadata": {},
   "outputs": [],
   "source": [
    "# train & eval helpers\n",
    "def train_epoch(train_dataloader, model, optimizer, lr_scheduler, global_progress_bar=None):\n",
    "    model.train()\n",
    "    size = len(train_dataloader)\n",
    "    for batch_idx, batch in enumerate(train_dataloader):\n",
    "        batch = {k: v.to(device) for k, v in batch.items()}\n",
    "        # forward propagation\n",
    "        outputs = model(**batch)\n",
    "        loss = outputs.loss\n",
    "        \n",
    "        # backpropagation\n",
    "        optimizer.zero_grad()\n",
    "        loss.backward()\n",
    "        \n",
    "        # step grad and lr\n",
    "        optimizer.step()\n",
    "        lr_scheduler.step()\n",
    "        \n",
    "        # print out training progress every 500 steps\n",
    "        if batch_idx % 100 == 0:\n",
    "            print(f\"loss: {loss.item():>7f}  [{batch_idx:>5d}/{size:>5d}]\")\n",
    "        \n",
    "        # update gobal bar progress\n",
    "        if global_progress_bar:\n",
    "            global_progress_bar.update(1)\n",
    "\n",
    "def eval_epoch(eval_dataloader, model):\n",
    "    model.eval()\n",
    "    for batch in eval_dataloader:\n",
    "        batch = {k: v.to(device) for k, v in batch.items()}\n",
    "        with torch.no_grad():\n",
    "            outputs = model(**batch)\n",
    "            \n",
    "        # post-process pred\n",
    "        logits = outputs.logits\n",
    "        predictions = torch.argmax(logits, dim=-1)\n",
    "        \n",
    "        # accumulate all batches' metrics\n",
    "        metric.add_batch(predictions=predictions, references=batch[\"labels\"])\n",
    "        \n",
    "    print(metric.compute())"
   ]
  },
  {
   "cell_type": "code",
   "execution_count": 22,
   "id": "4283601c",
   "metadata": {},
   "outputs": [
    {
     "data": {
      "application/vnd.jupyter.widget-view+json": {
       "model_id": "02b9e686032445efa0b8eda35c6efb09",
       "version_major": 2,
       "version_minor": 0
      },
      "text/plain": [
       "  0%|          | 0/6440 [00:00<?, ?it/s]"
      ]
     },
     "metadata": {},
     "output_type": "display_data"
    },
    {
     "name": "stdout",
     "output_type": "stream",
     "text": [
      "Epoch 1\n",
      "-------------------------------\n",
      "loss: 1.144286  [    0/ 1288]\n",
      "loss: 0.501930  [  100/ 1288]\n",
      "loss: 0.363136  [  200/ 1288]\n",
      "loss: 0.360400  [  300/ 1288]\n",
      "loss: 0.478606  [  400/ 1288]\n",
      "loss: 0.542012  [  500/ 1288]\n",
      "loss: 0.286772  [  600/ 1288]\n",
      "loss: 0.601538  [  700/ 1288]\n",
      "loss: 0.748330  [  800/ 1288]\n",
      "loss: 0.682168  [  900/ 1288]\n",
      "loss: 0.281032  [ 1000/ 1288]\n",
      "loss: 0.563609  [ 1100/ 1288]\n",
      "loss: 0.487928  [ 1200/ 1288]\n",
      "Evaluation:\n",
      "\n",
      "{'accuracy': 0.7662778847242668}\n",
      "Epoch 2\n",
      "-------------------------------\n",
      "loss: 0.698949  [    0/ 1288]\n",
      "loss: 0.491764  [  100/ 1288]\n",
      "loss: 0.297947  [  200/ 1288]\n",
      "loss: 0.310821  [  300/ 1288]\n",
      "loss: 0.406685  [  400/ 1288]\n",
      "loss: 0.526123  [  500/ 1288]\n",
      "loss: 0.450059  [  600/ 1288]\n",
      "loss: 0.521728  [  700/ 1288]\n",
      "loss: 0.360575  [  800/ 1288]\n",
      "loss: 0.324181  [  900/ 1288]\n",
      "loss: 0.286618  [ 1000/ 1288]\n",
      "loss: 0.323537  [ 1100/ 1288]\n",
      "loss: 0.588727  [ 1200/ 1288]\n",
      "Evaluation:\n",
      "\n",
      "{'accuracy': 0.7999094100328389}\n",
      "Epoch 3\n",
      "-------------------------------\n",
      "loss: 0.423894  [    0/ 1288]\n",
      "loss: 0.381868  [  100/ 1288]\n",
      "loss: 0.225022  [  200/ 1288]\n",
      "loss: 0.302049  [  300/ 1288]\n",
      "loss: 0.075675  [  400/ 1288]\n",
      "loss: 0.067050  [  500/ 1288]\n",
      "loss: 0.153963  [  600/ 1288]\n",
      "loss: 0.104811  [  700/ 1288]\n",
      "loss: 0.368499  [  800/ 1288]\n",
      "loss: 0.173603  [  900/ 1288]\n",
      "loss: 0.078511  [ 1000/ 1288]\n",
      "loss: 0.373809  [ 1100/ 1288]\n",
      "loss: 0.438852  [ 1200/ 1288]\n",
      "Evaluation:\n",
      "\n",
      "{'accuracy': 0.7906239383988223}\n",
      "Epoch 4\n",
      "-------------------------------\n",
      "loss: 0.086215  [    0/ 1288]\n",
      "loss: 0.045779  [  100/ 1288]\n",
      "loss: 0.630733  [  200/ 1288]\n",
      "loss: 0.070040  [  300/ 1288]\n",
      "loss: 0.238548  [  400/ 1288]\n",
      "loss: 0.019004  [  500/ 1288]\n",
      "loss: 0.050848  [  600/ 1288]\n",
      "loss: 0.301896  [  700/ 1288]\n",
      "loss: 0.527630  [  800/ 1288]\n",
      "loss: 0.101271  [  900/ 1288]\n",
      "loss: 0.312356  [ 1000/ 1288]\n",
      "loss: 0.176548  [ 1100/ 1288]\n",
      "loss: 0.125773  [ 1200/ 1288]\n",
      "Evaluation:\n",
      "\n",
      "{'accuracy': 0.788925376514551}\n",
      "Epoch 5\n",
      "-------------------------------\n",
      "loss: 0.231943  [    0/ 1288]\n",
      "loss: 0.192730  [  100/ 1288]\n",
      "loss: 0.016487  [  200/ 1288]\n",
      "loss: 0.355066  [  300/ 1288]\n",
      "loss: 0.059789  [  400/ 1288]\n",
      "loss: 0.039608  [  500/ 1288]\n",
      "loss: 0.097352  [  600/ 1288]\n",
      "loss: 0.015336  [  700/ 1288]\n",
      "loss: 0.178480  [  800/ 1288]\n",
      "loss: 0.023029  [  900/ 1288]\n",
      "loss: 0.044986  [ 1000/ 1288]\n",
      "loss: 0.039369  [ 1100/ 1288]\n",
      "loss: 0.010910  [ 1200/ 1288]\n",
      "Evaluation:\n",
      "\n",
      "{'accuracy': 0.7862076774997169}\n"
     ]
    }
   ],
   "source": [
    "# training and eval loops\n",
    "global_progress_bar = tqdm(range(num_training_steps))\n",
    "for epoch in range(cfg.EPOCHS):\n",
    "    print(f\"Epoch {epoch+1}\\n-------------------------------\")\n",
    "    train_epoch(train_dataloader, model, optimizer, lr_scheduler, global_progress_bar)\n",
    "    print(\"Evaluation:\")\n",
    "    eval_epoch(eval_dataloader, model)\n",
    "    print(\"\\n\")"
   ]
  },
  {
   "cell_type": "markdown",
   "id": "de06cc63",
   "metadata": {},
   "source": [
    "# Saving Model"
   ]
  },
  {
   "cell_type": "code",
   "execution_count": 28,
   "id": "4878761d",
   "metadata": {},
   "outputs": [
    {
     "name": "stdout",
     "output_type": "stream",
     "text": [
      "Trained model and its tokenizer are saved to ./model/\n"
     ]
    }
   ],
   "source": [
    "    try:\n",
    "        model.save_pretrained(cfg.MODEL_DIR)\n",
    "        tokenizer.save_pretrained(cfg.MODEL_DIR)\n",
    "        print(f\"Trained model and its tokenizer are saved to {cfg.MODEL_DIR}\")\n",
    "    except Exception as e:\n",
    "        print(e)\n",
    "        print(\"Saving model failed\")\n",
    "            "
   ]
  },
  {
   "cell_type": "code",
   "execution_count": null,
   "id": "4c1f1756",
   "metadata": {},
   "outputs": [],
   "source": [
    "# More info to save HF model: https://huggingface.co/transformers/v1.0.0/model_doc/overview.html#serialization-best-practices"
   ]
  }
 ],
 "metadata": {
  "kernelspec": {
   "display_name": "Python 3 (ipykernel)",
   "language": "python",
   "name": "python3"
  },
  "language_info": {
   "codemirror_mode": {
    "name": "ipython",
    "version": 3
   },
   "file_extension": ".py",
   "mimetype": "text/x-python",
   "name": "python",
   "nbconvert_exporter": "python",
   "pygments_lexer": "ipython3",
   "version": "3.8.10"
  }
 },
 "nbformat": 4,
 "nbformat_minor": 5
}
