{
 "cells": [
  {
   "cell_type": "markdown",
   "id": "b9824ef1",
   "metadata": {},
   "source": [
    "# Import Libs"
   ]
  },
  {
   "cell_type": "code",
   "execution_count": 1,
   "id": "61fdae07",
   "metadata": {},
   "outputs": [],
   "source": [
    "from datasets import Dataset, load_metric, ClassLabel\n",
    "from transformers import AutoTokenizer, AutoModelForSequenceClassification\n",
    "from transformers import AdamW, get_scheduler, DataCollatorWithPadding\n",
    "from tqdm.auto import tqdm\n",
    "\n",
    "from torch.utils.data import DataLoader\n",
    "import torch\n",
    "import numpy as np\n",
    "import pandas as pd\n",
    "import os"
   ]
  },
  {
   "cell_type": "code",
   "execution_count": 2,
   "id": "807ddbbd",
   "metadata": {},
   "outputs": [
    {
     "name": "stderr",
     "output_type": "stream",
     "text": [
      "Enabling notebook extension jupyter-js-widgets/extension...\n",
      "      - Validating: ok\n"
     ]
    }
   ],
   "source": [
    "!jupyter nbextension enable --py widgetsnbextension"
   ]
  },
  {
   "cell_type": "markdown",
   "id": "1a45b494",
   "metadata": {},
   "source": [
    "# Configuration"
   ]
  },
  {
   "cell_type": "code",
   "execution_count": 25,
   "id": "f8c18666",
   "metadata": {},
   "outputs": [],
   "source": [
    "class Config:\n",
    "    # flag to target on Gaudi\n",
    "    TRAIN_ON_HPU = False\n",
    "    \n",
    "    # dataset\n",
    "    TRAIN_DS_PATH = './dataset/train.pkl'\n",
    "    EVAL_DS_PATH = './dataset/eval.pkl'\n",
    "    \n",
    "    # checkpoint used in preprocessing and modelling\n",
    "    CHECKPOINT = 'distilbert-base-uncased'\n",
    "    \n",
    "    # HF params\n",
    "    MAX_SEQ_LENGTH = 514\n",
    "    \n",
    "    # training hyperparams\n",
    "    EPOCHS = 1\n",
    "    LR = 3e-5\n",
    "    BATCH_SIZE = 8\n",
    "    \n",
    "    # saved model path\n",
    "    MODEL_DIR = './model/'"
   ]
  },
  {
   "cell_type": "code",
   "execution_count": 26,
   "id": "063ebc95",
   "metadata": {},
   "outputs": [],
   "source": [
    "cfg = Config()"
   ]
  },
  {
   "cell_type": "markdown",
   "id": "03113f86",
   "metadata": {},
   "source": [
    "# Load the data"
   ]
  },
  {
   "cell_type": "code",
   "execution_count": 6,
   "id": "97f4efc9",
   "metadata": {},
   "outputs": [],
   "source": [
    "train_ds = Dataset.from_pandas(pd.read_pickle(cfg.TRAIN_DS_PATH))\n",
    "eval_ds = Dataset.from_pandas(pd.read_pickle(cfg.EVAL_DS_PATH))"
   ]
  },
  {
   "cell_type": "code",
   "execution_count": 7,
   "id": "a1785d11",
   "metadata": {},
   "outputs": [
    {
     "data": {
      "text/plain": [
       "Dataset({\n",
       "    features: ['descriptions', 'labels'],\n",
       "    num_rows: 20604\n",
       "})"
      ]
     },
     "execution_count": 7,
     "metadata": {},
     "output_type": "execute_result"
    }
   ],
   "source": [
    "train_ds"
   ]
  },
  {
   "cell_type": "code",
   "execution_count": 8,
   "id": "3c557481",
   "metadata": {},
   "outputs": [
    {
     "data": {
      "text/plain": [
       "Dataset({\n",
       "    features: ['descriptions', 'labels'],\n",
       "    num_rows: 8831\n",
       "})"
      ]
     },
     "execution_count": 8,
     "metadata": {},
     "output_type": "execute_result"
    }
   ],
   "source": [
    "eval_ds"
   ]
  },
  {
   "cell_type": "markdown",
   "id": "1529e60d",
   "metadata": {},
   "source": [
    "# Preprocessing"
   ]
  },
  {
   "cell_type": "code",
   "execution_count": 9,
   "id": "19b32c42",
   "metadata": {
    "scrolled": true
   },
   "outputs": [],
   "source": [
    "# download checkpoint tokenizer\n",
    "tokenizer = AutoTokenizer.from_pretrained(cfg.CHECKPOINT)"
   ]
  },
  {
   "cell_type": "code",
   "execution_count": 10,
   "id": "1febf0b3",
   "metadata": {},
   "outputs": [],
   "source": [
    "# create data collator\n",
    "data_collator = DataCollatorWithPadding(tokenizer=tokenizer)"
   ]
  },
  {
   "cell_type": "code",
   "execution_count": 11,
   "id": "638a4ccb",
   "metadata": {},
   "outputs": [],
   "source": [
    "# tokenizer helper function\n",
    "def tokenize(batch):\n",
    "    return tokenizer(batch['descriptions'], truncation=True, max_length=cfg.MAX_SEQ_LENGTH)"
   ]
  },
  {
   "cell_type": "code",
   "execution_count": 12,
   "id": "483b4eaf",
   "metadata": {},
   "outputs": [
    {
     "data": {
      "application/vnd.jupyter.widget-view+json": {
       "model_id": "27d0659d75834ae688d3a3cb89243560",
       "version_major": 2,
       "version_minor": 0
      },
      "text/plain": [
       "  0%|          | 0/21 [00:00<?, ?ba/s]"
      ]
     },
     "metadata": {},
     "output_type": "display_data"
    },
    {
     "data": {
      "application/vnd.jupyter.widget-view+json": {
       "model_id": "d4ccc2d652184be990a484b05f567bbb",
       "version_major": 2,
       "version_minor": 0
      },
      "text/plain": [
       "  0%|          | 0/9 [00:00<?, ?ba/s]"
      ]
     },
     "metadata": {},
     "output_type": "display_data"
    }
   ],
   "source": [
    "# tokenize dataset\n",
    "train_ds = train_ds.map(tokenize, batched=True)\n",
    "eval_ds = eval_ds.map(tokenize, batched=True)"
   ]
  },
  {
   "cell_type": "code",
   "execution_count": 13,
   "id": "2ccc0db1",
   "metadata": {},
   "outputs": [
    {
     "data": {
      "application/vnd.jupyter.widget-view+json": {
       "model_id": "c7d0c0daa5b948ba9898083bfefb38f2",
       "version_major": 2,
       "version_minor": 0
      },
      "text/plain": [
       "0ex [00:00, ?ex/s]"
      ]
     },
     "metadata": {},
     "output_type": "display_data"
    }
   ],
   "source": [
    "## convert dataset labels from str to ClassLabel\n",
    "lbels = train_ds.unique(\"labels\")\n",
    "label_feature = ClassLabel(names=lbels)\n",
    "\n",
    "# Update default features\n",
    "features = train_ds.features\n",
    "features[\"labels\"] = label_feature\n",
    "\n",
    "# Update dataset\n",
    "train_ds = train_ds.map(lambda x : {\"labels\": label_feature.str2int(x[\"labels\"])}, features=features)\n"
   ]
  },
  {
   "cell_type": "code",
   "execution_count": 14,
   "id": "29ea23e1",
   "metadata": {
    "scrolled": true
   },
   "outputs": [
    {
     "data": {
      "text/plain": [
       "{'descriptions': Value(dtype='string', id=None),\n",
       " 'labels': ClassLabel(num_classes=3, names=['bug', 'enhancement', 'question'], names_file=None, id=None),\n",
       " 'input_ids': Sequence(feature=Value(dtype='int32', id=None), length=-1, id=None),\n",
       " 'attention_mask': Sequence(feature=Value(dtype='int8', id=None), length=-1, id=None)}"
      ]
     },
     "execution_count": 14,
     "metadata": {},
     "output_type": "execute_result"
    }
   ],
   "source": [
    "train_ds.features"
   ]
  },
  {
   "cell_type": "code",
   "execution_count": 15,
   "id": "8324a213",
   "metadata": {},
   "outputs": [],
   "source": [
    "# remove redundant column and set torch format to the datasets\n",
    "train_ds = train_ds.remove_columns(['descriptions'])\n",
    "eval_ds = eval_ds.remove_columns(['descriptions'])\n",
    "train_ds.set_format(\"torch\")\n",
    "eval_ds.set_format(\"torch\")"
   ]
  },
  {
   "cell_type": "code",
   "execution_count": 16,
   "id": "df8c9c65",
   "metadata": {},
   "outputs": [],
   "source": [
    "train_dataloader = DataLoader(train_ds, shuffle=True, batch_size=cfg.BATCH_SIZE, collate_fn=data_collator)\n",
    "eval_dataloader = DataLoader(eval_ds, batch_size=cfg.BATCH_SIZE, collate_fn=data_collator)"
   ]
  },
  {
   "cell_type": "code",
   "execution_count": 17,
   "id": "142f68fe",
   "metadata": {},
   "outputs": [],
   "source": [
    "# sanity check\n",
    "# for batch in train_dataloader:\n",
    "#     break\n",
    "# {k: v.shape for k, v in batch.items()}"
   ]
  },
  {
   "cell_type": "markdown",
   "id": "cbd8edc5",
   "metadata": {},
   "source": [
    "# Train Model"
   ]
  },
  {
   "cell_type": "code",
   "execution_count": 18,
   "id": "72f2590e",
   "metadata": {},
   "outputs": [],
   "source": [
    "# Helpers\n",
    "# define metrics and metrics function\n",
    "metric = load_metric(\"accuracy\")\n",
    "def compute_metrics(eval_pred):\n",
    "    predictions, labels = eval_pred\n",
    "    predictions = np.argmax(predictions, axis=1)\n",
    "    return metric.compute(predictions=predictions, references=labels)\n",
    "\n",
    "# Prepare model labels - useful in inference API\n",
    "labels = train_ds.features[\"labels\"].names\n",
    "num_labels = len(labels)\n",
    "label2id, id2label = dict(), dict()\n",
    "for i, label in enumerate(labels):\n",
    "    label2id[label] = str(i)\n",
    "    id2label[str(i)] = label"
   ]
  },
  {
   "cell_type": "code",
   "execution_count": 19,
   "id": "f5c52985",
   "metadata": {},
   "outputs": [
    {
     "data": {
      "application/vnd.jupyter.widget-view+json": {
       "model_id": "6812f9d770814466a8053844f919250d",
       "version_major": 2,
       "version_minor": 0
      },
      "text/plain": [
       "Downloading:   0%|          | 0.00/256M [00:00<?, ?B/s]"
      ]
     },
     "metadata": {},
     "output_type": "display_data"
    },
    {
     "name": "stderr",
     "output_type": "stream",
     "text": [
      "Some weights of the model checkpoint at distilbert-base-uncased were not used when initializing DistilBertForSequenceClassification: ['vocab_projector.bias', 'vocab_projector.weight', 'vocab_layer_norm.weight', 'vocab_transform.bias', 'vocab_transform.weight', 'vocab_layer_norm.bias']\n",
      "- This IS expected if you are initializing DistilBertForSequenceClassification from the checkpoint of a model trained on another task or with another architecture (e.g. initializing a BertForSequenceClassification model from a BertForPreTraining model).\n",
      "- This IS NOT expected if you are initializing DistilBertForSequenceClassification from the checkpoint of a model that you expect to be exactly identical (initializing a BertForSequenceClassification model from a BertForSequenceClassification model).\n",
      "Some weights of DistilBertForSequenceClassification were not initialized from the model checkpoint at distilbert-base-uncased and are newly initialized: ['pre_classifier.bias', 'classifier.weight', 'classifier.bias', 'pre_classifier.weight']\n",
      "You should probably TRAIN this model on a down-stream task to be able to use it for predictions and inference.\n"
     ]
    }
   ],
   "source": [
    "# download model from model hub\n",
    "model = AutoModelForSequenceClassification.from_pretrained(\n",
    "    cfg.CHECKPOINT, \n",
    "    num_labels=num_labels, \n",
    "    label2id=label2id, \n",
    "    id2label=id2label,\n",
    ")"
   ]
  },
  {
   "cell_type": "code",
   "execution_count": 22,
   "id": "3cbae78c",
   "metadata": {},
   "outputs": [
    {
     "name": "stdout",
     "output_type": "stream",
     "text": [
      "Training steps: 7728\n"
     ]
    },
    {
     "name": "stderr",
     "output_type": "stream",
     "text": [
      "c:\\users\\ivand\\projects\\ai\\aws_dl_challenge\\intellilabel\\venv\\lib\\site-packages\\transformers\\optimization.py:306: FutureWarning: This implementation of AdamW is deprecated and will be removed in a future version. Use thePyTorch implementation torch.optim.AdamW instead, or set `no_deprecation_warning=True` to disable this warning\n",
      "  warnings.warn(\n"
     ]
    }
   ],
   "source": [
    "# optimizer\n",
    "optimizer = AdamW(model.parameters(), lr=cfg.LR)\n",
    "\n",
    "# lr scheduler\n",
    "num_training_steps = cfg.EPOCHS * len(train_dataloader)\n",
    "lr_scheduler = get_scheduler(\n",
    "    \"linear\",\n",
    "    optimizer=optimizer,\n",
    "    num_warmup_steps=0,\n",
    "    num_training_steps=num_training_steps,\n",
    ")\n",
    "\n",
    "print(f\"Training steps: {num_training_steps}\")"
   ]
  },
  {
   "cell_type": "code",
   "execution_count": null,
   "id": "f0cc7dc4",
   "metadata": {},
   "outputs": [
    {
     "name": "stdout",
     "output_type": "stream",
     "text": [
      "Using device: cuda\n"
     ]
    },
    {
     "data": {
      "application/vnd.jupyter.widget-view+json": {
       "model_id": "6250ca28a08345d6abc958d8c0fa79cb",
       "version_major": 2,
       "version_minor": 0
      },
      "text/plain": [
       "  0%|          | 0/7728 [00:00<?, ?it/s]"
      ]
     },
     "metadata": {},
     "output_type": "display_data"
    },
    {
     "name": "stdout",
     "output_type": "stream",
     "text": [
      "Epoch 1\n",
      "-------------------------------\n"
     ]
    }
   ],
   "source": [
    "# Prepare training\n",
    "if cfg.TRAIN_ON_HPU:\n",
    "    habana_modules_directory = \"/usr/lib/habanalabs\"\n",
    "    habana_pth_plugin = \"libhabana_pytorch_plugin.so\"\n",
    "    sys.path.insert(0, habana_modules_directory)\n",
    "    torch.ops.load_library(\n",
    "        os.path.abspath(\n",
    "            os.path.join(habana_modules_directory, habana_pth_plugin)\n",
    "        )\n",
    "    )\n",
    "    print(\"Targeting HPU\")\n",
    "    device = torch.device(\"hpu\")\n",
    "else:\n",
    "    device = torch.device('cuda' if torch.cuda.is_available() else 'cpu')\n",
    "    print(f\"Using device: {device}\")\n",
    "    \n",
    "model = model.to(device)\n",
    "progress_bar = tqdm(range(num_training_steps))\n",
    "\n",
    "\n",
    "# training and eval loops\n",
    "for epoch in range(cfg.EPOCHS):\n",
    "    print(f\"Epoch {epoch+1}\\n-------------------------------\")\n",
    "    model.train()\n",
    "    for batch in train_dataloader:\n",
    "        batch = {k: v.to(device) for k, v in batch.items()}\n",
    "        outputs = model(**batch)\n",
    "        loss = outputs.loss\n",
    "        loss.backward()\n",
    "\n",
    "        optimizer.step()\n",
    "        lr_scheduler.step()\n",
    "        optimizer.zero_grad()\n",
    "        progress_bar.update(1)\n",
    "    \n",
    "    ### EVAL\n",
    "    model.eval()\n",
    "    for batch in eval_dataloader:\n",
    "        batch = {k: v.to(device) for k, v in batch.items()}\n",
    "        with torch.no_grad():\n",
    "            outputs = model(**batch)\n",
    "\n",
    "        logits = outputs.logits\n",
    "        predictions = torch.argmax(logits, dim=-1)\n",
    "        metric.add_batch(predictions=predictions, references=batch[\"labels\"])\n",
    "        \n",
    "    metric.compute()\n",
    "    \n"
   ]
  },
  {
   "cell_type": "markdown",
   "id": "1479dc56",
   "metadata": {},
   "source": [
    "# Evaluate Model"
   ]
  },
  {
   "cell_type": "code",
   "execution_count": null,
   "id": "a77b1a09",
   "metadata": {},
   "outputs": [],
   "source": []
  },
  {
   "cell_type": "code",
   "execution_count": null,
   "id": "9293b9c2",
   "metadata": {},
   "outputs": [],
   "source": []
  },
  {
   "cell_type": "code",
   "execution_count": null,
   "id": "fc696d8e",
   "metadata": {},
   "outputs": [],
   "source": []
  },
  {
   "cell_type": "markdown",
   "id": "de06cc63",
   "metadata": {},
   "source": [
    "# Save Model"
   ]
  },
  {
   "cell_type": "code",
   "execution_count": null,
   "id": "4878761d",
   "metadata": {},
   "outputs": [],
   "source": [
    "    try:\n",
    "        torch.save(model.state_dict(), cfg.MODEL_DIR + \"model.pt\")\n",
    "        print(f\"Trained model is saved to {cfg.MODEL_DIR} as model.pt\")\n",
    "    except Exception as e:\n",
    "        print(e)\n",
    "        try:\n",
    "            torch.save(model.state_dict(), \"model.pt\")\n",
    "            print(f\"Trained model is saved to current work directory as model.pt\")\n",
    "        except Exception as e:\n",
    "            print(e)\n",
    "            print(\"Saving model failed\")"
   ]
  },
  {
   "cell_type": "code",
   "execution_count": null,
   "id": "4c1f1756",
   "metadata": {},
   "outputs": [],
   "source": []
  }
 ],
 "metadata": {
  "kernelspec": {
   "display_name": "Python 3 (ipykernel)",
   "language": "python",
   "name": "python3"
  },
  "language_info": {
   "codemirror_mode": {
    "name": "ipython",
    "version": 3
   },
   "file_extension": ".py",
   "mimetype": "text/x-python",
   "name": "python",
   "nbconvert_exporter": "python",
   "pygments_lexer": "ipython3",
   "version": "3.8.10"
  }
 },
 "nbformat": 4,
 "nbformat_minor": 5
}
